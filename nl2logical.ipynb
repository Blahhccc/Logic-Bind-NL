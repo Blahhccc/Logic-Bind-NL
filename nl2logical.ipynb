{
 "cells": [
  {
   "cell_type": "code",
   "execution_count": 2,
   "id": "ef0ee450-10b8-47a6-9b2c-5e98b8435e03",
   "metadata": {
    "execution": {
     "iopub.execute_input": "2024-11-22T08:12:14.297334Z",
     "iopub.status.busy": "2024-11-22T08:12:14.296545Z",
     "iopub.status.idle": "2024-11-22T08:12:14.728214Z",
     "shell.execute_reply": "2024-11-22T08:12:14.727197Z",
     "shell.execute_reply.started": "2024-11-22T08:12:14.297279Z"
    }
   },
   "outputs": [],
   "source": [
    "from typing import List\n",
    "from typing import Optional\n",
    "from typing import Dict\n",
    "\n",
    "import os\n",
    "import json\n",
    "from pathlib import Path\n",
    "\n",
    "import httpx\n",
    "from openai import OpenAI\n",
    "\n",
    "import requests"
   ]
  },
  {
   "cell_type": "markdown",
   "id": "13defd65-b8ea-4464-abc7-59d5fd9f28e7",
   "metadata": {},
   "source": [
    "## 单条prompt测试"
   ]
  },
  {
   "cell_type": "code",
   "execution_count": 2,
   "id": "0ddf9411-022a-40c0-b9d6-70ac36aff436",
   "metadata": {
    "execution": {
     "iopub.execute_input": "2024-11-21T12:07:41.960998Z",
     "iopub.status.busy": "2024-11-21T12:07:41.960173Z",
     "iopub.status.idle": "2024-11-21T12:07:42.564910Z",
     "shell.execute_reply": "2024-11-21T12:07:42.563687Z",
     "shell.execute_reply.started": "2024-11-21T12:07:41.960934Z"
    }
   },
   "outputs": [
    {
     "name": "stdout",
     "output_type": "stream",
     "text": [
      "200\n",
      "{\"id\":\"csvi53jjfih8i2kbnbog\",\"object\":\"file\",\"bytes\":3351,\"created_at\":1732190862,\"filename\":\"translation.txt\",\"purpose\":\"file-extract\",\"status\":\"ok\",\"status_details\":\"\"}\n"
     ]
    }
   ],
   "source": [
    "# 文件路径\n",
    "file_path = \"prompts/DataFountain/translation.txt\"\n",
    "\n",
    "# 请求的 URL\n",
    "url = \"https://api.moonshot.cn/v1/files\"\n",
    "\n",
    "headers = {\n",
    "    'Authorization': 'sk-gNToXJPO4Ih8NDZnDloSXR780dQDEZ2Epu49wcVA1sWb4Ecw'\n",
    "}\n",
    "\n",
    "# 准备文件数据\n",
    "files = {'file': open(file_path, 'rb')}\n",
    "\n",
    "# 发起 POST 请求\n",
    "response = requests.post(url, headers=headers, files=files)\n",
    "\n",
    "# 打印响应内容\n",
    "print(response.status_code)\n",
    "print(response.text)"
   ]
  },
  {
   "cell_type": "code",
   "execution_count": 3,
   "id": "7565d2b2-c1b9-4c98-b007-98a443f07ff3",
   "metadata": {
    "execution": {
     "iopub.execute_input": "2024-11-22T08:12:32.162666Z",
     "iopub.status.busy": "2024-11-22T08:12:32.161793Z",
     "iopub.status.idle": "2024-11-22T08:12:33.093322Z",
     "shell.execute_reply": "2024-11-22T08:12:33.092002Z",
     "shell.execute_reply.started": "2024-11-22T08:12:32.162607Z"
    },
    "scrolled": true
   },
   "outputs": [],
   "source": [
    "client = OpenAI(\n",
    "    api_key=\"sk-gNToXJPO4Ih8NDZnDloSXR780dQDEZ2Epu49wcVA1sWb4Ecw\",\n",
    "    base_url=\"https://api.moonshot.cn/v1\",\n",
    ")\n",
    "\n",
    "file_object = client.files.create(file=Path(\"prompts/DataFountain/translation.txt\"), purpose=\"file-extract\")\n",
    "file_content = client.files.content(file_id=file_object.id).text"
   ]
  },
  {
   "cell_type": "code",
   "execution_count": 4,
   "id": "00645b83-4b85-4afb-996e-a4a4d3bc84c2",
   "metadata": {
    "execution": {
     "iopub.execute_input": "2024-11-22T08:12:42.213150Z",
     "iopub.status.busy": "2024-11-22T08:12:42.212329Z",
     "iopub.status.idle": "2024-11-22T08:12:42.220138Z",
     "shell.execute_reply": "2024-11-22T08:12:42.219015Z",
     "shell.execute_reply.started": "2024-11-22T08:12:42.213091Z"
    }
   },
   "outputs": [
    {
     "name": "stdout",
     "output_type": "stream",
     "text": [
      "{\"content\":\"任务描述：你将被给予一个规则的描述。你的任务是将规则解析为一阶逻辑公式，并输出为可解析的 JSON 格式。\\n一阶逻辑公式的语法定义如下：\\n1） 确定规则中涉及的所有谓词。\\n2） 定义每个谓词的含义和参数。\\n3） 根据规则的逻辑结构，使用一阶逻辑的连接词（如∧、∨、⊕、¬、→、↔等）和量词（如∀、∃等）构建逻辑表达式。\\n------\\n下面是一个例子：\\n规则：\\n安全生产协调司的职责：根据安全监管总局领导指示和有关规定，组织协调安全监察专员赶赴事故现场参与事故应急救援和事故调查处理工作。\\n###\\n{\\n    \\\"rule\\\": \\\"安全生产协调司的职责：根据安全监管总局领导指示和有关规定，组织协调安全监察专员赶赴事故现场参与事故应急救援和事故调查处理工作。\\\",\\n    \\\"predicates\\\":\\n    [\\n        \\\"指示：Instruction(Leader, Regulation) ::: 表示领导发出的指示和相关规定。\\\",\\n        \\\"参与：Participate(Inspector, Scene, Task) ::: 表示安全监察专员在事故现场参与某项任务。\\\",\\n        \\\"赶赴：GoTo(Inspector, Scene) ::: 表示安全监察专员赶赴事故现场。\\\",\\n        \\\"事故：Accident(Scene) ::: 表示发生在某个场景的事故。\\\"\\n    ],\\n    \\\"logicexpression\\\":\\n    [\\n        \\\"∀s ∀i ∀r (Accident(s) ∧ Instruction(Leader, r) → (GoTo(i, s) ∧ Participate(i, s, EmergencyRescue) ∧ Participate(i, s, Investigation)))\\\"\\n    ]\\n}\\n------\\n下面是一个例子：\\n规则：\\n交通运输应急保障：安全监管总局建立全国主要危险化学品从业单位的交通地理信息系统。在应急响应时，利用现有的交通资源，协调铁道、民航、军队等系统提供交通支持，协调沿途有关地方人民政府提供交通警戒支持，以保证及时调运危险化学品事故灾难应急救援有关人员、装备、物资。事故发生地省级人民政府组织对事故现场进行交通管制，开设应急救援特别通道，最大限度地赢得救援时间。地方人民政府组织和调集足够的交通运输工具，保证现场应急救援工作需要。\\n###\\n{\\n    \\\"rule\\\": \\\"善后处置的获救人员的处置：当地政府民政部门或获救人员所在单位负责获救人员的安置；港澳台或外籍人员，由当地政府港澳台办或外事办负责安置；外籍人员由公安部门或外交部门负责遣返。\\\",\\n    \\\"predicates\\\":\\n    [\\n        \\\"负责安置：ResponsibleForSettlement(Department, Person) 表示某个部门负责某个获救人员的安置。\\\",\\n        \\\"港澳台或外籍人员：PersonType(Person, Type) 表示某个人员是港澳台或外籍人员。\\\",\\n        \\\"遣返：Deport(Person, Department) 表示某个部门负责遣返某个外籍人员。\\\"\\n    ],\\n    \\\"logicexpression\\\":\\n    [\\n        \\\"∀p (获救人员(p) → (¬港澳台或外籍人员(p) → ResponsibleForSettlement(民政部门, p) ∨ ResponsibleForSettlement(所在单位, p)))\\\",\\n        \\\"∀p (港澳台或外籍人员(p, 港澳台) → ResponsibleForSettlement(港澳台办, p) ∨ ResponsibleForSettlement(外事办, p))\\\",\\n        \\\"∀p (港澳台或外籍人员(p, 外籍) → Deport(p, 公安部门) ∨ Deport(p, 外交部门))\\\"\\n    ]\\n}\\n------\\n下面就是你需要翻译的：\\n规则：\\n[[RULES]]\\n###\",\"file_type\":\"text/plain\",\"filename\":\"translation.txt\",\"title\":\"\",\"type\":\"file\"}\n"
     ]
    }
   ],
   "source": [
    "print(file_content)"
   ]
  },
  {
   "cell_type": "code",
   "execution_count": 4,
   "id": "c4683d8d-e5c8-4d2c-9f78-1f4d4f4ff4f0",
   "metadata": {
    "execution": {
     "iopub.execute_input": "2024-11-21T12:07:51.962276Z",
     "iopub.status.busy": "2024-11-21T12:07:51.961457Z",
     "iopub.status.idle": "2024-11-21T12:07:51.976981Z",
     "shell.execute_reply": "2024-11-21T12:07:51.976243Z",
     "shell.execute_reply.started": "2024-11-21T12:07:51.962200Z"
    },
    "scrolled": true
   },
   "outputs": [],
   "source": [
    "import re\n",
    "\n",
    "with open('data/DF/rules1.json', 'r', encoding='utf-8') as file:\n",
    "    data = json.load(file)"
   ]
  },
  {
   "cell_type": "code",
   "execution_count": 5,
   "id": "db3436e9-efab-4bfd-8060-7d10cf44aefd",
   "metadata": {
    "execution": {
     "iopub.execute_input": "2024-11-21T12:09:58.963072Z",
     "iopub.status.busy": "2024-11-21T12:09:58.962177Z",
     "iopub.status.idle": "2024-11-21T12:09:58.970614Z",
     "shell.execute_reply": "2024-11-21T12:09:58.969378Z",
     "shell.execute_reply.started": "2024-11-21T12:09:58.962994Z"
    },
    "scrolled": true
   },
   "outputs": [
    {
     "name": "stdout",
     "output_type": "stream",
     "text": [
      "{'rule_id': '1', 'rule_text': '危险化学品事故是指危险化学品生产、经营、储存、运输、使用和废弃危险化学品处置等过程中由危险化学品造成人员伤害、财产损失和环境污染的事故（矿山开采过程中发生的有毒、有害气体中毒、爆炸事故、放炮事故除外）。'}\n"
     ]
    }
   ],
   "source": [
    "print(data[0])"
   ]
  },
  {
   "cell_type": "code",
   "execution_count": 6,
   "id": "60380bbd-992c-4599-916b-f62237b399f9",
   "metadata": {
    "execution": {
     "iopub.execute_input": "2024-11-21T12:10:01.961418Z",
     "iopub.status.busy": "2024-11-21T12:10:01.960613Z",
     "iopub.status.idle": "2024-11-21T12:10:01.967642Z",
     "shell.execute_reply": "2024-11-21T12:10:01.966330Z",
     "shell.execute_reply.started": "2024-11-21T12:10:01.961355Z"
    }
   },
   "outputs": [],
   "source": [
    "answers = []"
   ]
  },
  {
   "cell_type": "code",
   "execution_count": 7,
   "id": "cc38ab0d-86b4-4b1d-9b9e-34aca79846ba",
   "metadata": {
    "execution": {
     "iopub.execute_input": "2024-11-21T12:10:15.554760Z",
     "iopub.status.busy": "2024-11-21T12:10:15.553407Z",
     "iopub.status.idle": "2024-11-21T12:10:15.566847Z",
     "shell.execute_reply": "2024-11-21T12:10:15.566101Z",
     "shell.execute_reply.started": "2024-11-21T12:10:15.554691Z"
    }
   },
   "outputs": [],
   "source": [
    "import time\n",
    "\n",
    "\n",
    "# def call_api_with_rate_limit_handling(client, messages, model=\"moonshot-v1-32k\", max_retries=5):\n",
    "#     retries = 0\n",
    "#     while retries < max_retries:\n",
    "#         try:\n",
    "#             completion = client.chat.completions.create(\n",
    "#                 model=model,\n",
    "#                 messages=messages,\n",
    "#                 temperature=0,\n",
    "#             )\n",
    "#             return completion\n",
    "#         except requests.exceptions.HTTPError as e:\n",
    "#             print(e.response.status_code)\n",
    "#             if e.response.status_code == 429:\n",
    "#                 print('429')\n",
    "#                 error_data = e.response.json()\n",
    "#                 if error_data.get('error', {}).get('type') == 'rate_limit_reached_error':\n",
    "#                     print(f\"Rate limit reached. Retrying in {error_data.get('error', {}).get('message', '1')} seconds...\")\n",
    "#                     time.sleep(int(error_data.get('error', {}).get('message').split(' ')[-2]) + 1)\n",
    "#                     retries += 1\n",
    "#                 else:\n",
    "#                     raise  # Re-raise the exception if it's not a rate limit error\n",
    "#             else:\n",
    "#                 raise  # Re-raise the exception if it's not a 429 error\n",
    "#     raise Exception(\"Max retries reached. API call failed.\")\n",
    "\n",
    "def call_api_with_rate_limit_handling(client, messages, model=\"moonshot-v1-32k\", max_retries=5):\n",
    "    retries = 0\n",
    "    while retries < max_retries:\n",
    "        try:\n",
    "            completion = client.chat.completions.create(\n",
    "                model=model,\n",
    "                messages=messages,\n",
    "                temperature=0,\n",
    "            )\n",
    "            return completion\n",
    "        except Exception as e:\n",
    "            if '429' in str(e):  # 检查异常消息中是否包含429\n",
    "                print(\"Rate limit reached. Retrying in 1 second...\")\n",
    "                time.sleep(1)  # 等待1秒钟\n",
    "                retries += 1\n",
    "            else:\n",
    "                raise  # Re-raise the exception if it's not a 429 error\n",
    "    raise Exception(\"Max retries reached. API call failed.\")"
   ]
  },
  {
   "cell_type": "code",
   "execution_count": 9,
   "id": "b50adec2-27e2-4476-9402-69003c4d86c8",
   "metadata": {
    "collapsed": true,
    "execution": {
     "iopub.execute_input": "2024-11-15T09:56:50.302333Z",
     "iopub.status.busy": "2024-11-15T09:56:50.301455Z",
     "iopub.status.idle": "2024-11-15T09:57:10.732658Z",
     "shell.execute_reply": "2024-11-15T09:57:10.731985Z",
     "shell.execute_reply.started": "2024-11-15T09:56:50.302270Z"
    },
    "jupyter": {
     "outputs_hidden": true,
     "source_hidden": true
    }
   },
   "outputs": [
    {
     "name": "stdout",
     "output_type": "stream",
     "text": [
      "根据您提供的规则描述，我将规则解析为一阶逻辑公式，并输出为可解析的 JSON 格式。以下是结果：\n",
      "\n",
      "```json\n",
      "{\n",
      "    \"rule\": \"后期处置的保险：参加现场救助的政府公务人员由其所在单位办理人身意外伤害保险。参加救助的专业救助人员由其所属单位办理人身意外伤害保险。国家金融保险机构要及时介入海上突发事件的处置工作，按规定开展赔付工作。\",\n",
      "    \"predicates\": [\n",
      "        \"参加救助：ParticipateInRescue(Person, Role) ::: 表示某人以某种角色参加现场救助。\",\n",
      "        \"办理保险：HandleInsurance(Organization, Person) ::: 表示某个组织为某人办理人身意外伤害保险。\",\n",
      "        \"及时介入：TimelyIntervention(FinancialInstitution, Incident) ::: 表示国家金融保险机构及时介入某个突发事件的处置工作。\",\n",
      "        \"按规定赔付：PayAccordingToRegulations(FinancialInstitution, Incident) ::: 表示国家金融保险机构按规定开展赔付工作。\"\n",
      "    ],\n",
      "    \"logicexpression\": [\n",
      "        \"∀p ∀o (ParticipateInRescue(p, GovernmentOfficial) ∧ Organization(o) → HandleInsurance(o, p))\",\n",
      "        \"∀p ∀o (ParticipateInRescue(p, ProfessionalRescuer) ∧ Organization(o) → HandleInsurance(o, p))\",\n",
      "        \"∀i ∀f (MaritimeIncident(i) ∧ FinancialInstitution(f) → (TimelyIntervention(f, i) ∧ PayAccordingToRegulations(f, i)))\"\n",
      "    ]\n",
      "}\n",
      "```\n",
      "\n",
      "在这个 JSON 结构中：\n",
      "\n",
      "- `rule` 字段包含了原始的规则描述。\n",
      "- `predicates` 字段定义了规则中涉及的所有谓词，包括它们的名称、参数和含义。\n",
      "- `logicexpression` 字段包含了根据规则逻辑结构构建的一阶逻辑表达式，使用了一阶逻辑的连接词和量词。\n"
     ]
    }
   ],
   "source": [
    "# 替换内容\n",
    "replacement = \"后期处置的保险：参加现场救助的政府公务人员由其所在单位办理人身意外伤害保险。参加救助的专业救助人员由其所属单位办理人身意外伤害保险。国家金融保险机构要及时介入海上突发事件的处置工作，按规定开展赔付工作。\"\n",
    "\n",
    "# 使用正则表达式替换 [[RULES]]\n",
    "content = re.sub(r'\\[\\[RULES\\]\\]', replacement, file_content)\n",
    "\n",
    "messages = [\n",
    "    {\n",
    "        \"role\": \"system\",\n",
    "        \"content\": \"你是 Kimi，由 Moonshot AI 提供的人工智能助手，你更擅长中文和英文的对话。你会为用户提供安全，有帮助，准确的回答。同时，你会拒绝一切涉及恐怖主义，种族歧视，黄色暴力等问题的回答。Moonshot AI 为专有名词，不可翻译成其他语言。\"\n",
    "    },\n",
    "    {\n",
    "        \"role\": \"system\",\n",
    "        \"content\": content,\n",
    "    },\n",
    "    {\n",
    "        \"role\": \"user\",\n",
    "        \"content\": \"你好，请根据txt内容生成回答。\"\n",
    "    }\n",
    "]\n",
    "\n",
    "completion = call_api_with_rate_limit_handling(client, messages, \"moonshot-v1-32k\", 5)\n",
    "\n",
    "print(completion.choices[0].message.content)"
   ]
  },
  {
   "cell_type": "code",
   "execution_count": 8,
   "id": "5466cb3d-6473-47be-b3ac-8057f8a0ba4d",
   "metadata": {
    "execution": {
     "iopub.execute_input": "2024-11-21T12:15:55.964597Z",
     "iopub.status.busy": "2024-11-21T12:15:55.963742Z",
     "iopub.status.idle": "2024-11-21T13:12:42.460196Z",
     "shell.execute_reply": "2024-11-21T13:12:42.458705Z",
     "shell.execute_reply.started": "2024-11-21T12:15:55.964532Z"
    },
    "scrolled": true
   },
   "outputs": [
    {
     "name": "stdout",
     "output_type": "stream",
     "text": [
      "1\n",
      "2\n",
      "3\n",
      "4\n",
      "5\n",
      "6\n",
      "7\n",
      "8\n",
      "9\n",
      "10\n",
      "11\n",
      "12\n",
      "13\n",
      "14\n",
      "15\n",
      "16\n",
      "17\n",
      "18\n",
      "19\n",
      "20\n",
      "21\n",
      "22\n",
      "23\n",
      "24\n",
      "25\n",
      "26\n",
      "27\n",
      "28\n",
      "29\n",
      "30\n",
      "31\n",
      "32\n",
      "33\n",
      "34\n",
      "35\n",
      "36\n",
      "37\n",
      "38\n",
      "39\n",
      "40\n",
      "41\n",
      "42\n",
      "43\n",
      "44\n",
      "45\n",
      "46\n",
      "47\n",
      "48\n",
      "49\n",
      "50\n",
      "51\n",
      "52\n",
      "53\n",
      "54\n",
      "55\n",
      "56\n",
      "57\n",
      "58\n",
      "59\n",
      "60\n",
      "61\n",
      "62\n",
      "63\n",
      "64\n",
      "65\n",
      "66\n",
      "67\n",
      "68\n",
      "69\n",
      "70\n",
      "71\n",
      "72\n",
      "73\n",
      "74\n",
      "75\n",
      "76\n",
      "77\n",
      "78\n",
      "79\n",
      "80\n",
      "81\n",
      "82\n",
      "83\n",
      "84\n",
      "85\n",
      "86\n",
      "87\n",
      "88\n",
      "89\n",
      "90\n",
      "91\n",
      "92\n",
      "93\n",
      "94\n",
      "95\n",
      "96\n",
      "97\n",
      "98\n",
      "99\n",
      "100\n"
     ]
    }
   ],
   "source": [
    "for dicts in data[:100]:\n",
    "    # 替换内容\n",
    "    replacement = dicts['rule_text']\n",
    "\n",
    "    # 使用正则表达式替换 [[RULES]]\n",
    "    content = re.sub(r'\\[\\[RULES\\]\\]', replacement, file_content)\n",
    "\n",
    "    messages = [\n",
    "        {\n",
    "            \"role\": \"system\",\n",
    "            \"content\": \"你是 Kimi，由 Moonshot AI 提供的人工智能助手，你更擅长中文和英文的对话。你会为用户提供安全，有帮助，准确的回答。同时，你会拒绝一切涉及恐怖主义，种族歧视，黄色暴力等问题的回答。Moonshot AI 为专有名词，不可翻译成其他语言。请将内容输出为可解析的json格式。\"\n",
    "        },\n",
    "        {\n",
    "            \"role\": \"system\",\n",
    "            \"content\": content,\n",
    "        },\n",
    "        {\n",
    "            \"role\": \"user\",\n",
    "            \"content\": \"你好，请根据txt内容生成回答。\"\n",
    "        }\n",
    "    ]\n",
    "\n",
    "    completion = call_api_with_rate_limit_handling(client, messages, \"moonshot-v1-32k\", 5)\n",
    "\n",
    "    print(dicts['rule_id'])\n",
    "    answers.append(completion.choices[0].message.content)"
   ]
  },
  {
   "cell_type": "code",
   "execution_count": 9,
   "id": "0b3b7b45-6adc-45ee-900d-3d6abf0c0314",
   "metadata": {
    "execution": {
     "iopub.execute_input": "2024-11-21T13:17:32.063482Z",
     "iopub.status.busy": "2024-11-21T13:17:32.062656Z",
     "iopub.status.idle": "2024-11-21T13:17:32.075105Z",
     "shell.execute_reply": "2024-11-21T13:17:32.074398Z",
     "shell.execute_reply.started": "2024-11-21T13:17:32.063423Z"
    }
   },
   "outputs": [],
   "source": [
    "with open('data/DF/answers.json', 'w', encoding='utf-8') as f:\n",
    "    json.dump(answers, f, ensure_ascii=False, indent=4)"
   ]
  },
  {
   "cell_type": "code",
   "execution_count": 10,
   "id": "c49222b4-d0df-4746-8417-86fa12d6002d",
   "metadata": {
    "execution": {
     "iopub.execute_input": "2024-11-21T13:19:32.119059Z",
     "iopub.status.busy": "2024-11-21T13:19:32.117986Z",
     "iopub.status.idle": "2024-11-21T13:19:32.125663Z",
     "shell.execute_reply": "2024-11-21T13:19:32.124459Z",
     "shell.execute_reply.started": "2024-11-21T13:19:32.119011Z"
    }
   },
   "outputs": [
    {
     "name": "stdout",
     "output_type": "stream",
     "text": [
      "根据提供的规则描述，我们可以将其解析为一阶逻辑公式。以下是规则的逻辑表达式：\n",
      "\n",
      "```json\n",
      "{\n",
      "    \"rule\": \"危险化学品事故是指危险化学品生产、经营、储存、运输、使用和废弃危险化学品处置等过程中由危险化学品造成人员伤害、财产损失和环境污染的事故（矿山开采过程中发生的有毒、有害气体中毒、爆炸事故、放炮事故除外）。\",\n",
      "    \"predicates\": [\n",
      "        \"危险化学品事故：ChemicalAccident(Cause, Injury, PropertyDamage, EnvironmentalPollution) ::: 表示由危险化学品造成的事故，包括人员伤害、财产损失和环境污染。\",\n",
      "        \"造成：Cause(Accident, Effect) ::: 表示事故造成了某种效果。\",\n",
      "        \"人员伤害：Injury(Person) ::: 表示事故中人员受到伤害。\",\n",
      "        \"财产损失：PropertyDamage(Asset) ::: 表示事故中财产受到损失。\",\n",
      "        \"环境污染：EnvironmentalPollution(Environment) ::: 表示事故中环境受到污染。\",\n",
      "        \"生产：Produce(Chemical) ::: 表示危险化学品的生产过程。\",\n",
      "        \"经营：Operate(Chemical) ::: 表示危险化学品的经营过程。\",\n",
      "        \"储存：Store(Chemical) ::: 表示危险化学品的储存过程。\",\n",
      "        \"运输：Transport(Chemical) ::: 表示危险化学品的运输过程。\",\n",
      "        \"使用：Use(Chemical) ::: 表示危险化学品的使用过程。\",\n",
      "        \"废弃处置：Dispose(Chemical) ::: 表示危险化学品的废弃处置过程。\",\n",
      "        \"矿山开采事故：MiningAccident(GasPoisoning, Explosion, Blasting) ::: 表示矿山开采过程中发生的事故，包括有毒、有害气体中毒、爆炸事故、放炮事故。\"\n",
      "    ],\n",
      "    \"logicexpression\": [\n",
      "        \"∀c (ChemicalAccident(c, i, p, e) ↔ (Produce(c) ∨ Operate(c) ∨ Store(c) ∨ Transport(c) ∨ Use(c) ∨ Dispose(c)) ∧ (Cause(c, i) ∧ Cause(c, p) ∧ Cause(c, e)) ∧ ¬(MiningAccident(c, GasPoisoning) ∨ MiningAccident(c, Explosion) ∨ MiningAccident(c, Blasting))))\"\n",
      "    ]\n",
      "}\n",
      "```\n",
      "\n",
      "在这个逻辑表达式中，我们定义了相关的谓词，并构建了一个逻辑公式来表示规则中描述的情况。这个公式表明，如果一个事故是由危险化学品在生产、经营、储存、运输、使用或废弃处置过程中造成的，并且导致了人员伤害、财产损失和环境污染，那么这个事故就是一个危险化学品事故，除非这个事故是矿山开采过程中的特定类型的事故。\n"
     ]
    }
   ],
   "source": [
    "print(answers[0])"
   ]
  },
  {
   "cell_type": "markdown",
   "id": "b62fc8b7-8299-4641-9bed-b7c861bec8ea",
   "metadata": {
    "jp-MarkdownHeadingCollapsed": true
   },
   "source": [
    "## cache方法传输测试"
   ]
  },
  {
   "cell_type": "code",
   "execution_count": 4,
   "id": "89918fdd-18ba-4fea-8e5d-e6546e505782",
   "metadata": {
    "execution": {
     "iopub.execute_input": "2024-11-08T06:40:50.670073Z",
     "iopub.status.busy": "2024-11-08T06:40:50.669187Z",
     "iopub.status.idle": "2024-11-08T06:40:50.749649Z",
     "shell.execute_reply": "2024-11-08T06:40:50.748823Z",
     "shell.execute_reply.started": "2024-11-08T06:40:50.670006Z"
    }
   },
   "outputs": [],
   "source": [
    "client = OpenAI(\n",
    "    api_key=\"sk-gNToXJPO4Ih8NDZnDloSXR780dQDEZ2Epu49wcVA1sWb4Ecw\",\n",
    "    base_url=\"https://api.moonshot.cn/v1\",\n",
    ")"
   ]
  },
  {
   "cell_type": "code",
   "execution_count": null,
   "id": "ce73fa68-5991-47f7-9698-6cd6ff28ecae",
   "metadata": {},
   "outputs": [],
   "source": [
    "def upload_files(files: List[str], cache_tag: Optional[str] = None) -> List[Dict[str, Any]]:\n",
    "    \"\"\"\n",
    "    upload_files 会将传入的文件（路径）全部通过文件上传接口 '/v1/files' 上传，并获取上传后的\n",
    "    文件内容生成文件 messages。每个文件会是一个独立的 message，这些 message 的 role 均为\n",
    "    system，Kimi 大模型会正确识别这些 system messages 中的文件内容。\n",
    "\n",
    "    如果你设置了 cache_tag 参数，那么 upload_files 还会将你上传的文件内容存入 Context Cache\n",
    "    上下文缓存中，后续你就可以使用这个 Cache 来对文件内容进行提问。当你指定了 cache_tag 的值时，\n",
    "    upload_files 会生成一个 role 为 cache 的 message，通过这个 message，你可以引用已被缓存\n",
    "    的文件内容，这样就不必每次调用 `/v1/chat/completions` 接口时都要把文件内容再传输一遍。\n",
    "\n",
    "    注意，如果你设置了 cache_tag 的值，你需要把 upload_files 返回的 messages 放置在请求\n",
    "    `/v1/chat/completions` 接口时 messages 参数列表的第一位（实际上，我们推荐不管是否启用\n",
    "    cache_tag，都将 upload_files 返回的 messages 放置在 messages 列表的头部）。\n",
    "\n",
    "    关于 Context Caching 的具体信息，可以访问这里：\n",
    "\n",
    "    https://platform.moonshot.cn/docs/api/caching\n",
    "\n",
    "    :param files: 一个包含要上传文件的路径的列表，路径可以是绝对路径也可以是相对路径，请使用字符串\n",
    "        的形式传递文件路径。\n",
    "    :param cache_tag: 设置 Context Caching 的 tag 值，你可以将 tag 理解为自定义的 Cache 名称，\n",
    "        当你设置了 cache_tag 的值，就意味着启用 Context Caching 功能，默认缓存时间是 300 秒，每次\n",
    "        携带缓存进行 `/v1/chat/completions` 请求都将刷新缓存存活时间（300 秒）。\n",
    "    :return: 一个包含了文件内容或文件缓存的 messages 列表，请将这些 messages 加入到 Context 中，\n",
    "        即请求 `/v1/chat/completions` 接口时的 messages 参数中。\n",
    "    \"\"\"\n",
    "    messages = []\n",
    "\n",
    "    # 对每个文件路径，我们都会上传文件并抽取文件内容，最后生成一个 role 为 system 的 message，并加入\n",
    "    # 到最终返回的 messages 列表中。\n",
    "    for file in files:\n",
    "        file_object = client.files.create(file=Path(file), purpose=\"file-extract\")\n",
    "        file_content = client.files.content(file_id=file_object.id).text\n",
    "        messages.append({\n",
    "            \"role\": \"system\",\n",
    "            \"content\": file_content,\n",
    "        })\n",
    "\n",
    "    if cache_tag:\n",
    "        # 当启用缓存（即 cache_tag 有值时），我们通过 HTTP 接口创建缓存，缓存的内容则是前文中通过文件上传\n",
    "        # 和抽取接口生成的 messages 内容，我们为这些缓存设置一个默认的有效期 300 秒（通过 ttl 字段），并\n",
    "        # 为这个缓存打上标记，标记值为 cache_tag（通过 tags 字段）。\n",
    "        r = httpx.post(f\"{client.base_url}caching\",\n",
    "                       headers={\n",
    "                           \"Authorization\": f\"Bearer {client.api_key}\",\n",
    "                       },\n",
    "                       json={\n",
    "                           \"model\": \"moonshot-v1\",\n",
    "                           \"messages\": messages,\n",
    "                           \"ttl\": 300,\n",
    "                           \"tags\": [cache_tag],\n",
    "                       })\n",
    "\n",
    "        if r.status_code != 200:\n",
    "            raise Exception(r.text)\n",
    "\n",
    "        # 创建缓存成功后，我们不再需要将文件抽取后的内容原封不动地加入 messages 中，取而代之的是，我们可以设置一个\n",
    "        # role 为 cache 的消息来引用我们已缓存的文件内容，只需要在 content 中指定我们给 Cache 设定的 tag 即可，\n",
    "        # 这样可以有效减少网络传输的开销，即使是多个文件内容，也只需要添加一条 message，保持 messages 列表的清爽感。\n",
    "        return [{\n",
    "            \"role\": \"cache\",\n",
    "            \"content\": f\"tag={cache_tag};reset_ttl=300\",\n",
    "        }]\n",
    "    else:\n",
    "        return messages"
   ]
  }
 ],
 "metadata": {
  "kernelspec": {
   "display_name": "Python 3 (ipykernel)",
   "language": "python",
   "name": "python3"
  },
  "language_info": {
   "codemirror_mode": {
    "name": "ipython",
    "version": 3
   },
   "file_extension": ".py",
   "mimetype": "text/x-python",
   "name": "python",
   "nbconvert_exporter": "python",
   "pygments_lexer": "ipython3",
   "version": "3.10.12"
  }
 },
 "nbformat": 4,
 "nbformat_minor": 5
}
