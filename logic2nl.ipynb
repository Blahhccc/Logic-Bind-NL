{
 "cells": [
  {
   "cell_type": "code",
   "execution_count": 9,
   "id": "66235589-d78c-4235-a74f-82905fc82ed4",
   "metadata": {
    "execution": {
     "iopub.execute_input": "2024-11-22T10:15:00.265143Z",
     "iopub.status.busy": "2024-11-22T10:15:00.264308Z",
     "iopub.status.idle": "2024-11-22T10:15:00.273199Z",
     "shell.execute_reply": "2024-11-22T10:15:00.271867Z",
     "shell.execute_reply.started": "2024-11-22T10:15:00.265082Z"
    }
   },
   "outputs": [],
   "source": [
    "from typing import List\n",
    "from typing import Optional\n",
    "from typing import Dict\n",
    "\n",
    "import os\n",
    "import json\n",
    "from pathlib import Path\n",
    "\n",
    "import httpx\n",
    "from openai import OpenAI\n",
    "\n",
    "import requests\n",
    "\n",
    "import time\n",
    "import re"
   ]
  },
  {
   "cell_type": "markdown",
   "id": "bf0c6bd3-0465-46b6-9f50-7f08c4fcf0c6",
   "metadata": {},
   "source": [
    "## 逻辑表达式转化为自然语言"
   ]
  },
  {
   "cell_type": "code",
   "execution_count": 2,
   "id": "8da15da0-9bf8-4125-80f7-605fd793086b",
   "metadata": {
    "execution": {
     "iopub.execute_input": "2024-11-22T10:11:25.263735Z",
     "iopub.status.busy": "2024-11-22T10:11:25.262912Z",
     "iopub.status.idle": "2024-11-22T10:11:26.216759Z",
     "shell.execute_reply": "2024-11-22T10:11:26.215222Z",
     "shell.execute_reply.started": "2024-11-22T10:11:25.263673Z"
    }
   },
   "outputs": [
    {
     "name": "stdout",
     "output_type": "stream",
     "text": [
      "200\n",
      "{\"id\":\"ct05hjb5cfusk9i2r0tg\",\"object\":\"file\",\"bytes\":6097,\"created_at\":1732270285,\"filename\":\"nl.txt\",\"purpose\":\"file-extract\",\"status\":\"ok\",\"status_details\":\"\"}\n"
     ]
    }
   ],
   "source": [
    "# 文件路径\n",
    "file_path = \"prompts/DataFountain/nl.txt\"\n",
    "\n",
    "# 请求的 URL\n",
    "url = \"https://api.moonshot.cn/v1/files\"\n",
    "\n",
    "headers = {\n",
    "    'Authorization': 'sk-gNToXJPO4Ih8NDZnDloSXR780dQDEZ2Epu49wcVA1sWb4Ecw'\n",
    "}\n",
    "\n",
    "# 准备文件数据\n",
    "files = {'file': open(file_path, 'rb')}\n",
    "\n",
    "# 发起 POST 请求\n",
    "response = requests.post(url, headers=headers, files=files)\n",
    "\n",
    "# 打印响应内容\n",
    "print(response.status_code)\n",
    "print(response.text)"
   ]
  },
  {
   "cell_type": "code",
   "execution_count": 3,
   "id": "3eaa33bd-88ac-4e2f-a5ca-1303a48d726c",
   "metadata": {
    "execution": {
     "iopub.execute_input": "2024-11-22T10:11:37.539504Z",
     "iopub.status.busy": "2024-11-22T10:11:37.538375Z",
     "iopub.status.idle": "2024-11-22T10:11:38.381405Z",
     "shell.execute_reply": "2024-11-22T10:11:38.379901Z",
     "shell.execute_reply.started": "2024-11-22T10:11:37.539439Z"
    }
   },
   "outputs": [],
   "source": [
    "client = OpenAI(\n",
    "    api_key=\"sk-gNToXJPO4Ih8NDZnDloSXR780dQDEZ2Epu49wcVA1sWb4Ecw\",\n",
    "    base_url=\"https://api.moonshot.cn/v1\",\n",
    ")\n",
    "\n",
    "file_object = client.files.create(file=Path(\"prompts/DataFountain/nl.txt\"), purpose=\"file-extract\")\n",
    "file_content = client.files.content(file_id=file_object.id).text"
   ]
  },
  {
   "cell_type": "code",
   "execution_count": 4,
   "id": "b6dd41da-9c3e-41bc-bfc5-6cc66b3cb2c6",
   "metadata": {
    "execution": {
     "iopub.execute_input": "2024-11-22T10:12:03.267765Z",
     "iopub.status.busy": "2024-11-22T10:12:03.266962Z",
     "iopub.status.idle": "2024-11-22T10:12:03.278185Z",
     "shell.execute_reply": "2024-11-22T10:12:03.277525Z",
     "shell.execute_reply.started": "2024-11-22T10:12:03.267708Z"
    }
   },
   "outputs": [],
   "source": [
    "with open('data/DF/instance_predicates.json', 'r', encoding='utf-8') as file:\n",
    "    data = json.load(file)"
   ]
  },
  {
   "cell_type": "code",
   "execution_count": 5,
   "id": "f1ac69e5-d31f-4fb4-86d1-b20f0cc3549e",
   "metadata": {
    "execution": {
     "iopub.execute_input": "2024-11-22T10:12:13.265484Z",
     "iopub.status.busy": "2024-11-22T10:12:13.264711Z",
     "iopub.status.idle": "2024-11-22T10:12:13.272085Z",
     "shell.execute_reply": "2024-11-22T10:12:13.270932Z",
     "shell.execute_reply.started": "2024-11-22T10:12:13.265439Z"
    },
    "scrolled": true
   },
   "outputs": [
    {
     "name": "stdout",
     "output_type": "stream",
     "text": [
      "根据您提供的规则数据，以下是谓词实例化的参数值，以及将实例化参数代入逻辑表达式的结果：\n",
      "\n",
      "```json\n",
      "[\n",
      "    {\n",
      "        \"instance_predicates\": [\n",
      "            \"c=“甲苯泄漏” — 表示危险化学品事故为甲苯泄漏\",\n",
      "            \"i=“工人受伤” — 表示人员伤害为工人受伤\",\n",
      "            \"p=“设备损坏” — 表示财产损失为设备损坏\",\n",
      "            \"e=“河流污染” — 表示环境污染为河流污染\",\n",
      "            \"Cause=“甲苯泄漏导致” — 表示事故原因为甲苯泄漏导致\"\n",
      "        ],\n",
      "        \"instance_logicexpression\": [\n",
      "            \"∀c (ChemicalAccident(“甲苯泄漏”, “工人受伤”, “设备损坏”, “河流污染”) ↔ (Produce(“甲苯泄漏”) ∨ Operate(“甲苯泄漏”) ∨ Store(“甲苯泄漏”) ∨ Transport(“甲苯泄漏”) ∨ Use(“甲苯泄漏”) ∨ Dispose(“甲苯泄漏”)) ∧ (Cause(“甲苯泄漏”, “工人受伤”) ∧ Cause(“甲苯泄漏”, “设备损坏”) ∧ Cause(“甲苯泄漏”, “河流污染”)) ∧ ¬(MiningAccident(“甲苯泄漏”, GasPoisoning) ∨ MiningAccident(“甲苯泄漏”, Explosion) ∨ MiningAccident(“甲苯泄漏”, Blasting))))\"\n",
      "        ]\n",
      "    },\n",
      "    {\n",
      "        \"instance_predicates\": [\n",
      "            \"c=“硫酸泄漏” — 表示危险化学品事故为硫酸泄漏\",\n",
      "            \"i=“居民中毒” — 表示人员伤害为居民中毒\",\n",
      "            \"p=“仓库损毁” — 表示财产损失为仓库损毁\",\n",
      "            \"e=“土壤污染” — 表示环境污染为土壤污染\",\n",
      "            \"Cause=“硫酸泄漏导致” — 表示事故原因为硫酸泄漏导致\"\n",
      "        ],\n",
      "        \"instance_logicexpression\": [\n",
      "            \"∀c (ChemicalAccident(“硫酸泄漏”, “居民中毒”, “仓库损毁”, “土壤污染”) ↔ (Produce(“硫酸泄漏”) ∨ Operate(“硫酸泄漏”) ∨ Store(“硫酸泄漏”) ∨ Transport(“硫酸泄漏”) ∨ Use(“硫酸泄漏”) ∨ Dispose(“硫酸泄漏”)) ∧ (Cause(“硫酸泄漏”, “居民中毒”) ∧ Cause(“硫酸泄漏”, “仓库损毁”) ∧ Cause(“硫酸泄漏”, “土壤污染”)) ∧ ¬(MiningAccident(“硫酸泄漏”, GasPoisoning) ∨ MiningAccident(“硫酸泄漏”, Explosion) ∨ MiningAccident(“硫酸泄漏”, Blasting))))\"\n",
      "        ]\n",
      "    },\n",
      "    {\n",
      "        \"instance_predicates\": [\n",
      "            \"c=“氯气泄漏” — 表示危险化学品事故为氯气泄漏\",\n",
      "            \"i=“员工窒息” — 表示人员伤害为员工窒息\",\n",
      "            \"p=“运输车辆损毁” — 表示财产损失为运输车辆损毁\",\n",
      "            \"e=“大气污染” — 表示环境污染为大气污染\",\n",
      "            \"Cause=“氯气泄漏导致” — 表示事故原因为氯气泄漏导致\"\n",
      "        ],\n",
      "        \"instance_logicexpression\": [\n",
      "            \"∀c (ChemicalAccident(“氯气泄漏”, “员工窒息”, “运输车辆损毁”, “大气污染”) ↔ (Produce(“氯气泄漏”) ∨ Operate(“氯气泄漏”) ∨ Store(“氯气泄漏”) ∨ Transport(“氯气泄漏”) ∨ Use(“氯气泄漏”) ∨ Dispose(“氯气泄漏”)) ∧ (Cause(“氯气泄漏”, “员工窒息”) ∧ Cause(“氯气泄漏”, “运输车辆损毁”) ∧ Cause(“氯气泄漏”, “大气污染”)) ∧ ¬(MiningAccident(“氯气泄漏”, GasPoisoning) ∨ MiningAccident(“氯气泄漏”, Explosion) ∨ MiningAccident(“氯气泄漏”, Blasting))))\"\n",
      "        ]\n",
      "    }\n",
      "]\n",
      "```\n",
      "\n",
      "这些实例化参数值和逻辑表达式展示了不同危险化学品事故的场景，包括甲苯泄漏、硫酸泄漏和氯气泄漏，以及它们对应的人员伤害、财产损失和环境污染情况。\n"
     ]
    }
   ],
   "source": [
    "print(data[0])"
   ]
  },
  {
   "cell_type": "code",
   "execution_count": 25,
   "id": "db57d3d2-2803-4a23-a9f9-1a867f35d07a",
   "metadata": {
    "execution": {
     "iopub.execute_input": "2024-11-22T10:33:58.231118Z",
     "iopub.status.busy": "2024-11-22T10:33:58.230427Z",
     "iopub.status.idle": "2024-11-22T10:33:58.238958Z",
     "shell.execute_reply": "2024-11-22T10:33:58.237594Z",
     "shell.execute_reply.started": "2024-11-22T10:33:58.231072Z"
    }
   },
   "outputs": [],
   "source": [
    "def extract_json(text):\n",
    "    # 使用正则表达式匹配并提取 JSON 数据（假设 JSON 数据用 `{` 开头和 `}` 结尾）\n",
    "    json_data = re.search(r'\\[.*\\]', text, re.DOTALL)\n",
    "\n",
    "    # 检查是否找到匹配的 JSON 数据\n",
    "    if json_data:\n",
    "        json_string = json_data.group(0)\n",
    "\n",
    "        # 将 JSON 数据解析为字典\n",
    "        data = json.loads(json_string)\n",
    "        return data\n",
    "    else:\n",
    "        print(\"未找到 JSON 数据。\")"
   ]
  },
  {
   "cell_type": "code",
   "execution_count": 11,
   "id": "298ec0d8-414a-4a24-a1aa-ad99904c3fb9",
   "metadata": {
    "execution": {
     "iopub.execute_input": "2024-11-22T10:17:31.062032Z",
     "iopub.status.busy": "2024-11-22T10:17:31.061194Z",
     "iopub.status.idle": "2024-11-22T10:17:31.069541Z",
     "shell.execute_reply": "2024-11-22T10:17:31.068371Z",
     "shell.execute_reply.started": "2024-11-22T10:17:31.061969Z"
    },
    "scrolled": true
   },
   "outputs": [
    {
     "name": "stdout",
     "output_type": "stream",
     "text": [
      "[\n",
      "    {\n",
      "        \"instance_predicates\": [\n",
      "            \"c=“甲苯泄漏” — 表示危险化学品事故为甲苯泄漏\",\n",
      "            \"i=“工人受伤” — 表示人员伤害为工人受伤\",\n",
      "            \"p=“设备损坏” — 表示财产损失为设备损坏\",\n",
      "            \"e=“河流污染” — 表示环境污染为河流污染\",\n",
      "            \"Cause=“甲苯泄漏导致” — 表示事故原因为甲苯泄漏导致\"\n",
      "        ],\n",
      "        \"instance_logicexpression\": [\n",
      "            \"∀c (ChemicalAccident(“甲苯泄漏”, “工人受伤”, “设备损坏”, “河流污染”) ↔ (Produce(“甲苯泄漏”) ∨ Operate(“甲苯泄漏”) ∨ Store(“甲苯泄漏”) ∨ Transport(“甲苯泄漏”) ∨ Use(“甲苯泄漏”) ∨ Dispose(“甲苯泄漏”)) ∧ (Cause(“甲苯泄漏”, “工人受伤”) ∧ Cause(“甲苯泄漏”, “设备损坏”) ∧ Cause(“甲苯泄漏”, “河流污染”)) ∧ ¬(MiningAccident(“甲苯泄漏”, GasPoisoning) ∨ MiningAccident(“甲苯泄漏”, Explosion) ∨ MiningAccident(“甲苯泄漏”, Blasting))))\"\n",
      "        ]\n",
      "    },\n",
      "    {\n",
      "        \"instance_predicates\": [\n",
      "            \"c=“硫酸泄漏” — 表示危险化学品事故为硫酸泄漏\",\n",
      "            \"i=“居民中毒” — 表示人员伤害为居民中毒\",\n",
      "            \"p=“仓库损毁” — 表示财产损失为仓库损毁\",\n",
      "            \"e=“土壤污染” — 表示环境污染为土壤污染\",\n",
      "            \"Cause=“硫酸泄漏导致” — 表示事故原因为硫酸泄漏导致\"\n",
      "        ],\n",
      "        \"instance_logicexpression\": [\n",
      "            \"∀c (ChemicalAccident(“硫酸泄漏”, “居民中毒”, “仓库损毁”, “土壤污染”) ↔ (Produce(“硫酸泄漏”) ∨ Operate(“硫酸泄漏”) ∨ Store(“硫酸泄漏”) ∨ Transport(“硫酸泄漏”) ∨ Use(“硫酸泄漏”) ∨ Dispose(“硫酸泄漏”)) ∧ (Cause(“硫酸泄漏”, “居民中毒”) ∧ Cause(“硫酸泄漏”, “仓库损毁”) ∧ Cause(“硫酸泄漏”, “土壤污染”)) ∧ ¬(MiningAccident(“硫酸泄漏”, GasPoisoning) ∨ MiningAccident(“硫酸泄漏”, Explosion) ∨ MiningAccident(“硫酸泄漏”, Blasting))))\"\n",
      "        ]\n",
      "    },\n",
      "    {\n",
      "        \"instance_predicates\": [\n",
      "            \"c=“氯气泄漏” — 表示危险化学品事故为氯气泄漏\",\n",
      "            \"i=“员工窒息” — 表示人员伤害为员工窒息\",\n",
      "            \"p=“运输车辆损毁” — 表示财产损失为运输车辆损毁\",\n",
      "            \"e=“大气污染” — 表示环境污染为大气污染\",\n",
      "            \"Cause=“氯气泄漏导致” — 表示事故原因为氯气泄漏导致\"\n",
      "        ],\n",
      "        \"instance_logicexpression\": [\n",
      "            \"∀c (ChemicalAccident(“氯气泄漏”, “员工窒息”, “运输车辆损毁”, “大气污染”) ↔ (Produce(“氯气泄漏”) ∨ Operate(“氯气泄漏”) ∨ Store(“氯气泄漏”) ∨ Transport(“氯气泄漏”) ∨ Use(“氯气泄漏”) ∨ Dispose(“氯气泄漏”)) ∧ (Cause(“氯气泄漏”, “员工窒息”) ∧ Cause(“氯气泄漏”, “运输车辆损毁”) ∧ Cause(“氯气泄漏”, “大气污染”)) ∧ ¬(MiningAccident(“氯气泄漏”, GasPoisoning) ∨ MiningAccident(“氯气泄漏”, Explosion) ∨ MiningAccident(“氯气泄漏”, Blasting))))\"\n",
      "        ]\n",
      "    }\n",
      "]\n"
     ]
    }
   ],
   "source": [
    "print(extract_json(data[0]))"
   ]
  },
  {
   "cell_type": "markdown",
   "id": "ee8257d6-5c00-48a6-8089-b959a28e9892",
   "metadata": {},
   "source": [
    "## 使用api转化自然语言"
   ]
  },
  {
   "cell_type": "code",
   "execution_count": 7,
   "id": "78d9b509-a3d5-4910-8845-978dcdd02213",
   "metadata": {
    "execution": {
     "iopub.execute_input": "2024-11-22T10:14:24.265886Z",
     "iopub.status.busy": "2024-11-22T10:14:24.265066Z",
     "iopub.status.idle": "2024-11-22T10:14:24.275802Z",
     "shell.execute_reply": "2024-11-22T10:14:24.274648Z",
     "shell.execute_reply.started": "2024-11-22T10:14:24.265830Z"
    }
   },
   "outputs": [],
   "source": [
    "def call_api_with_rate_limit_handling(client, messages, model=\"moonshot-v1-32k\", max_retries=5):\n",
    "    retries = 0\n",
    "    while retries < max_retries:\n",
    "        try:\n",
    "            completion = client.chat.completions.create(\n",
    "                model=model,\n",
    "                messages=messages,\n",
    "                temperature=0,\n",
    "            )\n",
    "            return completion\n",
    "        except Exception as e:\n",
    "            if '429' in str(e):  # 检查异常消息中是否包含429\n",
    "                print(\"Rate limit reached. Retrying in 1 second...\")\n",
    "                time.sleep(1)  # 等待1秒钟\n",
    "                retries += 1\n",
    "            else:\n",
    "                raise  # Re-raise the exception if it's not a 429 error\n",
    "    raise Exception(\"Max retries reached. API call failed.\")"
   ]
  },
  {
   "cell_type": "code",
   "execution_count": 29,
   "id": "8c77761e-c04e-45a6-90aa-acae8282baba",
   "metadata": {
    "execution": {
     "iopub.execute_input": "2024-11-22T10:36:53.114198Z",
     "iopub.status.busy": "2024-11-22T10:36:53.113766Z",
     "iopub.status.idle": "2024-11-22T10:36:53.118706Z",
     "shell.execute_reply": "2024-11-22T10:36:53.117841Z",
     "shell.execute_reply.started": "2024-11-22T10:36:53.114177Z"
    }
   },
   "outputs": [],
   "source": [
    "nl = []"
   ]
  },
  {
   "cell_type": "code",
   "execution_count": 30,
   "id": "dcb41e1a-ed8e-4ecf-a166-17018279de66",
   "metadata": {
    "execution": {
     "iopub.execute_input": "2024-11-22T10:36:57.112699Z",
     "iopub.status.busy": "2024-11-22T10:36:57.112284Z",
     "iopub.status.idle": "2024-11-22T10:45:07.718400Z",
     "shell.execute_reply": "2024-11-22T10:45:07.717252Z",
     "shell.execute_reply.started": "2024-11-22T10:36:57.112679Z"
    },
    "scrolled": true
   },
   "outputs": [
    {
     "name": "stdout",
     "output_type": "stream",
     "text": [
      "0\n",
      "0\n",
      "0\n",
      "1\n",
      "1\n",
      "1\n",
      "2\n",
      "2\n",
      "2\n",
      "3\n",
      "3\n",
      "3\n",
      "4\n",
      "4\n",
      "4\n",
      "4\n",
      "5\n",
      "5\n",
      "5\n",
      "6\n",
      "6\n",
      "6\n",
      "6\n",
      "7\n",
      "7\n",
      "7\n",
      "7\n",
      "7\n",
      "7\n",
      "7\n",
      "7\n",
      "8\n",
      "8\n",
      "8\n",
      "8\n",
      "9\n",
      "9\n",
      "9\n",
      "9\n",
      "10\n",
      "10\n",
      "10\n",
      "10\n",
      "11\n",
      "11\n",
      "11\n",
      "11\n",
      "12\n",
      "12\n",
      "13\n",
      "13\n",
      "13\n",
      "13\n",
      "14\n",
      "14\n",
      "14\n",
      "14\n",
      "15\n",
      "15\n",
      "15\n",
      "15\n",
      "16\n",
      "16\n",
      "16\n",
      "16\n",
      "17\n",
      "17\n",
      "17\n",
      "18\n",
      "18\n",
      "18\n",
      "18\n",
      "19\n",
      "19\n",
      "19\n",
      "19\n",
      "20\n",
      "20\n",
      "20\n",
      "20\n",
      "20\n"
     ]
    },
    {
     "ename": "JSONDecodeError",
     "evalue": "Expecting ',' delimiter: line 44 column 10 (char 2386)",
     "output_type": "error",
     "traceback": [
      "\u001b[0;31m---------------------------------------------------------------------------\u001b[0m",
      "\u001b[0;31mJSONDecodeError\u001b[0m                           Traceback (most recent call last)",
      "Cell \u001b[0;32mIn[30], line 3\u001b[0m\n\u001b[1;32m      1\u001b[0m \u001b[38;5;28;01mfor\u001b[39;00m index, text \u001b[38;5;129;01min\u001b[39;00m \u001b[38;5;28menumerate\u001b[39m(data[\u001b[38;5;241m0\u001b[39m: \u001b[38;5;241m100\u001b[39m], start\u001b[38;5;241m=\u001b[39m\u001b[38;5;241m0\u001b[39m):\n\u001b[1;32m      2\u001b[0m     \u001b[38;5;66;03m# 替换内容\u001b[39;00m\n\u001b[0;32m----> 3\u001b[0m     replacement \u001b[38;5;241m=\u001b[39m \u001b[43mextract_json\u001b[49m\u001b[43m(\u001b[49m\u001b[43mtext\u001b[49m\u001b[43m)\u001b[49m\n\u001b[1;32m      4\u001b[0m     temp \u001b[38;5;241m=\u001b[39m []\n\u001b[1;32m      5\u001b[0m     \u001b[38;5;28;01mfor\u001b[39;00m instances \u001b[38;5;129;01min\u001b[39;00m replacement:\n",
      "Cell \u001b[0;32mIn[25], line 10\u001b[0m, in \u001b[0;36mextract_json\u001b[0;34m(text)\u001b[0m\n\u001b[1;32m      7\u001b[0m     json_string \u001b[38;5;241m=\u001b[39m json_data\u001b[38;5;241m.\u001b[39mgroup(\u001b[38;5;241m0\u001b[39m)\n\u001b[1;32m      9\u001b[0m     \u001b[38;5;66;03m# 将 JSON 数据解析为字典\u001b[39;00m\n\u001b[0;32m---> 10\u001b[0m     data \u001b[38;5;241m=\u001b[39m \u001b[43mjson\u001b[49m\u001b[38;5;241;43m.\u001b[39;49m\u001b[43mloads\u001b[49m\u001b[43m(\u001b[49m\u001b[43mjson_string\u001b[49m\u001b[43m)\u001b[49m\n\u001b[1;32m     11\u001b[0m     \u001b[38;5;28;01mreturn\u001b[39;00m data\n\u001b[1;32m     12\u001b[0m \u001b[38;5;28;01melse\u001b[39;00m:\n",
      "File \u001b[0;32m/usr/lib/python3.10/json/__init__.py:346\u001b[0m, in \u001b[0;36mloads\u001b[0;34m(s, cls, object_hook, parse_float, parse_int, parse_constant, object_pairs_hook, **kw)\u001b[0m\n\u001b[1;32m    341\u001b[0m     s \u001b[38;5;241m=\u001b[39m s\u001b[38;5;241m.\u001b[39mdecode(detect_encoding(s), \u001b[38;5;124m'\u001b[39m\u001b[38;5;124msurrogatepass\u001b[39m\u001b[38;5;124m'\u001b[39m)\n\u001b[1;32m    343\u001b[0m \u001b[38;5;28;01mif\u001b[39;00m (\u001b[38;5;28mcls\u001b[39m \u001b[38;5;129;01mis\u001b[39;00m \u001b[38;5;28;01mNone\u001b[39;00m \u001b[38;5;129;01mand\u001b[39;00m object_hook \u001b[38;5;129;01mis\u001b[39;00m \u001b[38;5;28;01mNone\u001b[39;00m \u001b[38;5;129;01mand\u001b[39;00m\n\u001b[1;32m    344\u001b[0m         parse_int \u001b[38;5;129;01mis\u001b[39;00m \u001b[38;5;28;01mNone\u001b[39;00m \u001b[38;5;129;01mand\u001b[39;00m parse_float \u001b[38;5;129;01mis\u001b[39;00m \u001b[38;5;28;01mNone\u001b[39;00m \u001b[38;5;129;01mand\u001b[39;00m\n\u001b[1;32m    345\u001b[0m         parse_constant \u001b[38;5;129;01mis\u001b[39;00m \u001b[38;5;28;01mNone\u001b[39;00m \u001b[38;5;129;01mand\u001b[39;00m object_pairs_hook \u001b[38;5;129;01mis\u001b[39;00m \u001b[38;5;28;01mNone\u001b[39;00m \u001b[38;5;129;01mand\u001b[39;00m \u001b[38;5;129;01mnot\u001b[39;00m kw):\n\u001b[0;32m--> 346\u001b[0m     \u001b[38;5;28;01mreturn\u001b[39;00m \u001b[43m_default_decoder\u001b[49m\u001b[38;5;241;43m.\u001b[39;49m\u001b[43mdecode\u001b[49m\u001b[43m(\u001b[49m\u001b[43ms\u001b[49m\u001b[43m)\u001b[49m\n\u001b[1;32m    347\u001b[0m \u001b[38;5;28;01mif\u001b[39;00m \u001b[38;5;28mcls\u001b[39m \u001b[38;5;129;01mis\u001b[39;00m \u001b[38;5;28;01mNone\u001b[39;00m:\n\u001b[1;32m    348\u001b[0m     \u001b[38;5;28mcls\u001b[39m \u001b[38;5;241m=\u001b[39m JSONDecoder\n",
      "File \u001b[0;32m/usr/lib/python3.10/json/decoder.py:337\u001b[0m, in \u001b[0;36mJSONDecoder.decode\u001b[0;34m(self, s, _w)\u001b[0m\n\u001b[1;32m    332\u001b[0m \u001b[38;5;28;01mdef\u001b[39;00m \u001b[38;5;21mdecode\u001b[39m(\u001b[38;5;28mself\u001b[39m, s, _w\u001b[38;5;241m=\u001b[39mWHITESPACE\u001b[38;5;241m.\u001b[39mmatch):\n\u001b[1;32m    333\u001b[0m \u001b[38;5;250m    \u001b[39m\u001b[38;5;124;03m\"\"\"Return the Python representation of ``s`` (a ``str`` instance\u001b[39;00m\n\u001b[1;32m    334\u001b[0m \u001b[38;5;124;03m    containing a JSON document).\u001b[39;00m\n\u001b[1;32m    335\u001b[0m \n\u001b[1;32m    336\u001b[0m \u001b[38;5;124;03m    \"\"\"\u001b[39;00m\n\u001b[0;32m--> 337\u001b[0m     obj, end \u001b[38;5;241m=\u001b[39m \u001b[38;5;28;43mself\u001b[39;49m\u001b[38;5;241;43m.\u001b[39;49m\u001b[43mraw_decode\u001b[49m\u001b[43m(\u001b[49m\u001b[43ms\u001b[49m\u001b[43m,\u001b[49m\u001b[43m \u001b[49m\u001b[43midx\u001b[49m\u001b[38;5;241;43m=\u001b[39;49m\u001b[43m_w\u001b[49m\u001b[43m(\u001b[49m\u001b[43ms\u001b[49m\u001b[43m,\u001b[49m\u001b[43m \u001b[49m\u001b[38;5;241;43m0\u001b[39;49m\u001b[43m)\u001b[49m\u001b[38;5;241;43m.\u001b[39;49m\u001b[43mend\u001b[49m\u001b[43m(\u001b[49m\u001b[43m)\u001b[49m\u001b[43m)\u001b[49m\n\u001b[1;32m    338\u001b[0m     end \u001b[38;5;241m=\u001b[39m _w(s, end)\u001b[38;5;241m.\u001b[39mend()\n\u001b[1;32m    339\u001b[0m     \u001b[38;5;28;01mif\u001b[39;00m end \u001b[38;5;241m!=\u001b[39m \u001b[38;5;28mlen\u001b[39m(s):\n",
      "File \u001b[0;32m/usr/lib/python3.10/json/decoder.py:353\u001b[0m, in \u001b[0;36mJSONDecoder.raw_decode\u001b[0;34m(self, s, idx)\u001b[0m\n\u001b[1;32m    344\u001b[0m \u001b[38;5;250m\u001b[39m\u001b[38;5;124;03m\"\"\"Decode a JSON document from ``s`` (a ``str`` beginning with\u001b[39;00m\n\u001b[1;32m    345\u001b[0m \u001b[38;5;124;03ma JSON document) and return a 2-tuple of the Python\u001b[39;00m\n\u001b[1;32m    346\u001b[0m \u001b[38;5;124;03mrepresentation and the index in ``s`` where the document ended.\u001b[39;00m\n\u001b[0;32m   (...)\u001b[0m\n\u001b[1;32m    350\u001b[0m \n\u001b[1;32m    351\u001b[0m \u001b[38;5;124;03m\"\"\"\u001b[39;00m\n\u001b[1;32m    352\u001b[0m \u001b[38;5;28;01mtry\u001b[39;00m:\n\u001b[0;32m--> 353\u001b[0m     obj, end \u001b[38;5;241m=\u001b[39m \u001b[38;5;28;43mself\u001b[39;49m\u001b[38;5;241;43m.\u001b[39;49m\u001b[43mscan_once\u001b[49m\u001b[43m(\u001b[49m\u001b[43ms\u001b[49m\u001b[43m,\u001b[49m\u001b[43m \u001b[49m\u001b[43midx\u001b[49m\u001b[43m)\u001b[49m\n\u001b[1;32m    354\u001b[0m \u001b[38;5;28;01mexcept\u001b[39;00m \u001b[38;5;167;01mStopIteration\u001b[39;00m \u001b[38;5;28;01mas\u001b[39;00m err:\n\u001b[1;32m    355\u001b[0m     \u001b[38;5;28;01mraise\u001b[39;00m JSONDecodeError(\u001b[38;5;124m\"\u001b[39m\u001b[38;5;124mExpecting value\u001b[39m\u001b[38;5;124m\"\u001b[39m, s, err\u001b[38;5;241m.\u001b[39mvalue) \u001b[38;5;28;01mfrom\u001b[39;00m \u001b[38;5;28;01mNone\u001b[39;00m\n",
      "\u001b[0;31mJSONDecodeError\u001b[0m: Expecting ',' delimiter: line 44 column 10 (char 2386)"
     ]
    }
   ],
   "source": [
    "for index, text in enumerate(data[0: 100], start=0):\n",
    "    # 替换内容\n",
    "    replacement = extract_json(text)\n",
    "    temp = []\n",
    "    for instances in replacement:\n",
    "        instance = json.dumps(instances)\n",
    "\n",
    "        # 使用正则表达式替换 [[RULES]]\n",
    "        # content = re.sub(r'\\[\\[RULES\\]\\]', instance, file_content)\n",
    "        # print(content)\n",
    "\n",
    "        # 使用replace\n",
    "        content = file_content.replace(\"[[RULES]]\", instance)\n",
    "\n",
    "        messages = [\n",
    "            {\n",
    "                \"role\": \"system\",\n",
    "                \"content\": \"你是 Kimi，由 Moonshot AI 提供的人工智能助手，你更擅长中文和英文的对话。你会为用户提供安全，有帮助，准确的回答。同时，你会拒绝一切涉及恐怖主义，种族歧视，黄色暴力等问题的回答。Moonshot AI 为专有名词，不可翻译成其他语言。请将内容输出为可解析的json格式。\"\n",
    "            },\n",
    "            {\n",
    "                \"role\": \"system\",\n",
    "                \"content\": content,\n",
    "            },\n",
    "            {\n",
    "                \"role\": \"user\",\n",
    "                \"content\": \"你好，请根据txt内容生成回答。\"\n",
    "            }\n",
    "        ]\n",
    "\n",
    "        completion = call_api_with_rate_limit_handling(client, messages, \"moonshot-v1-32k\", 5)\n",
    "\n",
    "        print(f\"{index}\")\n",
    "        temp.append(completion.choices[0].message.content)\n",
    "\n",
    "    nl.append(temp)"
   ]
  },
  {
   "cell_type": "code",
   "execution_count": 32,
   "id": "c6f70075-27be-43bb-878f-4b8087838c02",
   "metadata": {
    "execution": {
     "iopub.execute_input": "2024-11-22T11:03:07.165998Z",
     "iopub.status.busy": "2024-11-22T11:03:07.165162Z",
     "iopub.status.idle": "2024-11-22T11:03:07.172442Z",
     "shell.execute_reply": "2024-11-22T11:03:07.171366Z",
     "shell.execute_reply.started": "2024-11-22T11:03:07.165938Z"
    },
    "scrolled": true
   },
   "outputs": [
    {
     "name": "stdout",
     "output_type": "stream",
     "text": [
      "根据您提供的规则数据，以下是谓词实例化的参数值，以及将实例化参数代入逻辑表达式的结果：\n",
      "\n",
      "```json\n",
      "[\n",
      "    {\n",
      "        \"instance_predicates\": [\n",
      "            \"i=“化工厂泄漏事故” — 表示事故为化工厂泄漏事故\",\n",
      "            \"Reporter=“安全监管总局” — 表示报告事故的主体为安全监管总局\",\n",
      "            \"Collector=“安全监管总局” — 表示收集信息的主体为安全监管总局\",\n",
      "            \"Data=“化工厂化学品数据” — 表示采集的数据为化工厂化学品数据\",\n",
      "            \"Monitor=“领导小组” — 表示关注事态的主体为领导小组\",\n",
      "            \"Notifier=“领导小组” — 表示通知准备的主体为领导小组\",\n",
      "            \"Entity=“应急专家组” — 表示被通知准备的实体为应急专家组\",\n",
      "            \"Provider=“领导小组” — 表示提出指导的主体为领导小组\",\n",
      "            \"Government=“化工厂所在省人民政府” — 表示接受指导的政府为化工厂所在省人民政府\",\n",
      "            \"Personnel=“应急救援队和化学品专家” — 表示赶赴现场的人员和专家为应急救援队和化学品专家\",\n",
      "            \"Scene=“化工厂事故现场” — 表示事故现场为化工厂事故现场\",\n",
      "            \"Info=“国家危险化学品事故灾难应急预案” — 表示提供的预案信息为国家危险化学品事故灾难应急预案\",\n",
      "            \"Organizer=“领导小组” — 表示组织咨询的主体为领导小组\",\n",
      "            \"Experts=“化学品事故处理专家组” — 表示被组织咨询的专家为化学品事故处理专家组\"\n",
      "        ],\n",
      "        \"instance_logicexpression\": [\n",
      "            \"∀i (EmergencyStatus(“化工厂泄漏事故”) ∧ ¬Activated(i) → (ReportAccident(领导小组, “化工厂泄漏事故”) ∧ CollectInformation(安全监管总局, “化工厂泄漏事故”, 事故信息) ∧ CollectData(安全监管总局, “化工厂化学品数据”)))\",\n",
      "            \"∀i (EmergencyStatus(“化工厂泄漏事故”) ∧ ¬Activated(i) → (MonitorSituation(领导小组, “化工厂泄漏事故”) → ReportAccident(领导小组, “化工厂泄漏事故”)))\",\n",
      "            \"∀i (EmergencyStatus(“化工厂泄漏事故”) ∧ ¬Activated(i) → NotifyPrepare(领导小组, 应急专家组))\",\n",
      "            \"∀i (EmergencyStatus(“化工厂泄漏事故”) ∧ ¬Activated(i) → ProvideGuidance(领导小组, 化工厂所在省人民政府, “化工厂泄漏事故”))\",\n",
      "            \"∀i (EmergencyStatus(“化工厂泄漏事故”) ∧ ¬Activated(i) → GoToScene(应急救援队和化学品专家, 化工厂事故现场))\",\n",
      "            \"∀i (EmergencyStatus(“化工厂泄漏事故”) ∧ ¬Activated(i) → (ProvideInfo(领导小组, “国家危险化学品事故灾难应急预案”) ∧ OrganizeConsultation(领导小组, 化学品事故处理专家组)))\"\n",
      "        ]\n",
      "    },\n",
      "    {\n",
      "        \"instance_predicates\": [\n",
      "            \"i=“炼油厂火灾事故” — 表示事故为炼油厂火灾事故\",\n",
      "            \"Reporter=“安全监管总局” — 表示报告事故的主体为安全监管总局\",\n",
      "            \"Collector=“安全监管总局” — 表示收集信息的主体为安全监管总局\",\n",
      "            \"Data=“炼油厂化学品数据” — 表示采集的数据为炼油厂化学品数据\",\n",
      "            \"Monitor=“领导小组” — 表示关注事态的主体为领导小组\",\n",
      "            \"Notifier=“领导小组” — 表示通知准备的主体为领导小组\",\n",
      "            \"Entity=“消防救援队” — 表示被通知准备的实体为消防救援队\",\n",
      "            \"Provider=“领导小组” — 表示提出指导的主体为领导小组\",\n",
      "            \"Government=“炼油厂所在省人民政府” — 表示接受指导的政府为炼油厂所在省人民政府\",\n",
      "            \"Personnel=“消防专家和安全工程师” — 表示赶赴现场的人员和专家为消防专家和安全工程师\",\n",
      "            \"Scene=“炼油厂火灾现场” — 表示事故现场为炼油厂火灾现场\",\n",
      "            \"Info=“国家危险化学品事故灾难应急预案” — 表示提供的预案信息为国家危险化学品事故灾难应急预案\",\n",
      "            \"Organizer=“领导小组” — 表示组织咨询的主体为领导小组\",\n",
      "            \"Experts=“火灾事故处理专家组” — 表示被组织咨询的专家为火灾事故处理专家组\"\n",
      "        ],\n",
      "        \"instance_logicexpression\": [\n",
      "            \"∀i (EmergencyStatus(“炼油厂火灾事故”) ∧ ¬Activated(i) → (ReportAccident(领导小组, “炼油厂火灾事故”) ∧ CollectInformation(安全监管总局\n"
     ]
    }
   ],
   "source": [
    "print(data[21])"
   ]
  },
  {
   "cell_type": "code",
   "execution_count": 33,
   "id": "35cb0e6a-7b4f-4a10-84d1-14a43e572647",
   "metadata": {
    "execution": {
     "iopub.execute_input": "2024-11-22T11:04:00.164342Z",
     "iopub.status.busy": "2024-11-22T11:04:00.163478Z",
     "iopub.status.idle": "2024-11-22T11:04:00.172748Z",
     "shell.execute_reply": "2024-11-22T11:04:00.171611Z",
     "shell.execute_reply.started": "2024-11-22T11:04:00.164280Z"
    }
   },
   "outputs": [],
   "source": [
    "with open('data/DF/nl.json', 'w', encoding='utf-8') as f:\n",
    "    json.dump(nl, f, ensure_ascii=False, indent=4)"
   ]
  },
  {
   "cell_type": "code",
   "execution_count": null,
   "id": "03ec33b8-e48f-4852-9878-ead3ccb12ac0",
   "metadata": {},
   "outputs": [],
   "source": []
  }
 ],
 "metadata": {
  "kernelspec": {
   "display_name": "Python 3 (ipykernel)",
   "language": "python",
   "name": "python3"
  },
  "language_info": {
   "codemirror_mode": {
    "name": "ipython",
    "version": 3
   },
   "file_extension": ".py",
   "mimetype": "text/x-python",
   "name": "python",
   "nbconvert_exporter": "python",
   "pygments_lexer": "ipython3",
   "version": "3.10.12"
  }
 },
 "nbformat": 4,
 "nbformat_minor": 5
}
